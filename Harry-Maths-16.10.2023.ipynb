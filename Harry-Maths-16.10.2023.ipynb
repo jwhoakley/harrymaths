'''
a b
c d

ab + ac + cd + bd = 200

therefore:
(a*10 + b) + (a*10 + c) + (c*10 + d) + (b*10 + d) = 200

but:
a, b, c and d must be unique digits between 1-9
'''

import random
solutions = []
help = 0

while len(solutions) < 22:

    # re-initialise variables
    if help: print('initilising variables')
    a = 0
    b = 0
    c = 0
    d = 0
    test = 0
    answer = []
    check_unique = []
    
    # loop until you find a solution which = 200
    while test != 200:

        a = random.randint(1,9)
        b = random.randint(1,9)
        while b == a:
            b = random.randint(1,9)
        c = random.randint(1,9)
        while c == a or c == b:
            c = random.randint(1,9)
        d = random.randint(1,9)
        while d == a or d == b or d == c:
            d = random.randint(1,9)

        # check does this combination = 200?
        test = (a*10 + b) + (a*10 + c) + (c*10 + d) + (b*10 + d)

    # while loop exits so we can set current variables to our new answer 
    answer = [a, b, c, d]
    if help: print('new answer: ', answer)
    
    # for the first answer add it to solutions and return to start of loop
    if not solutions:
        solutions.append(answer)
        if help: print('our first solution: ', solutions, '\n')
        continue

    # check whether there is already an array within our solutions array that matches
    result = any(answer in solutions for check_unique in solutions)
    if help: print('Matching?: ', result)
    if not result:
        solutions.append(answer)

    # show what solutions we have at this point
    if help: print('our current solutions: ', solutions, '\n')

for pos, digit in enumerate(solutions):
    print("answer ", pos+1)
    print('', digit[0], digit[1], "\n", digit[2], digit[3])
    print('Test: ', (digit[0]*10 + digit[1]) + (digit[0]*10 + digit[2]) + (digit[2]*10 + digit[3]) + (digit[1]*10 + digit[3]), '\n')
